{
 "cells": [
  {
   "cell_type": "code",
   "execution_count": null,
   "metadata": {},
   "outputs": [],
   "source": [
    "%load_ext autoreload\n",
    "%autoreload 2\n",
    "\n",
    "%matplotlib inline"
   ]
  },
  {
   "cell_type": "markdown",
   "metadata": {},
   "source": [
    "## Basic setup"
   ]
  },
  {
   "cell_type": "markdown",
   "metadata": {},
   "source": [
    "Create anaconda environment\n",
    "<br>\n",
    "```bash\n",
    "conda create -n ml python=3.7.4 jupyter\n",
    "```\n",
    "Install fastai library\n",
    "<br>\n",
    "```bash\n",
    "conda install -c pytorch -c fastai fastai\n",
    "```"
   ]
  },
  {
   "cell_type": "markdown",
   "metadata": {},
   "source": [
    "# Set theory basics"
   ]
  },
  {
   "cell_type": "markdown",
   "metadata": {},
   "source": [
    "#### Prove that:\n",
    "<br>\n",
    "$A \\subseteq A$"
   ]
  },
  {
   "cell_type": "markdown",
   "metadata": {},
   "source": [
    "A=A so  A ⊆ A"
   ]
  },
  {
   "cell_type": "markdown",
   "metadata": {},
   "source": [
    "#### Prove that:\n",
    "<br>\n",
    "If $A \\subseteq B$ and $B \\subseteq A$ $\\to$ $A = B$"
   ]
  },
  {
   "cell_type": "markdown",
   "metadata": {},
   "source": [
    "for every x in A, is in B, and for every y in B, is in A , So every x=y and so A=B"
   ]
  },
  {
   "cell_type": "markdown",
   "metadata": {},
   "source": [
    "#### Prove that:\n",
    "<br>\n",
    "if $B \\subset A$ then $A \\cap B = B$"
   ]
  },
  {
   "cell_type": "markdown",
   "metadata": {},
   "source": [
    " every b  element of B is in A , So  𝐴∩𝐵 is every element b  , So  𝐴∩𝐵=𝐵 , iff A ≠ B"
   ]
  },
  {
   "cell_type": "markdown",
   "metadata": {},
   "source": [
    "#### Prove that:\n",
    "<br>\n",
    "$A \\cap B = B \\cap A$"
   ]
  },
  {
   "cell_type": "markdown",
   "metadata": {},
   "source": [
    "From the symmetric propery  𝐴∩𝐵=𝐵∩𝐴  <br />\n",
    "  \n"
   ]
  },
  {
   "cell_type": "markdown",
   "metadata": {},
   "source": [
    "#### Prove that:\n",
    "<br>\n",
    "if $B \\subset A$ then $A \\cup B = A$"
   ]
  },
  {
   "cell_type": "markdown",
   "metadata": {},
   "source": [
    "A + B = A + (B-A)\n",
    "\n",
    "B = A∩B + (B-A)\n",
    "(B-A) = B - A∩B\n",
    "\n",
    "A + B = A + B - A∩B <br />\n",
    " if  𝐵⊂𝐴  then A∩B = B ,  A + B = A + B - B ,  <br />\n",
    "  thus  𝐴∪𝐵=𝐴 <br />\n"
   ]
  },
  {
   "cell_type": "markdown",
   "metadata": {},
   "source": [
    "#### Prove that:\n",
    "<br>\n",
    "$A \\cup B = B \\cup A$"
   ]
  },
  {
   "cell_type": "markdown",
   "metadata": {},
   "source": [
    "From the symmetric propery 𝐴∪𝐵=𝐵∪𝐴"
   ]
  },
  {
   "cell_type": "markdown",
   "metadata": {},
   "source": [
    "#### Prove that:\n",
    "- for every injection $m:A \\to B$ and pair of functions $f, g :C \\to A$: if $m \\circ f = m \\circ g$ then $f = g$ and vice-versa\n",
    "- for every surjection $e:A \\to B$ and every pair of functions $f, g :B \\to C$: if $f \\circ e = g \\circ e$ then $f = g$ and vice-versa"
   ]
  },
  {
   "cell_type": "markdown",
   "metadata": {},
   "source": [
    "injection: one to one relationship  , m(f) = m(g)  ,if m is injective , f=g  <br />\n",
    "\n",
    "\n",
    "surjection: onto relationship  , f(e) = g(e) ,if e is surjection then f = g "
   ]
  },
  {
   "cell_type": "markdown",
   "metadata": {},
   "source": [
    "#### Prove that \n",
    "- composition of injections is injection itself\n",
    "- composition of surjections is surjection itself\n",
    "- composition of bijections is bijection itself\n",
    "<br>\n",
    "or give a counterexamples"
   ]
  },
  {
   "cell_type": "markdown",
   "metadata": {},
   "source": [
    "#### Prove that for each set $A$:\n",
    "- $A \\cong A$\n",
    "- if $B \\cong A$ then $B \\cong A$ for every pair of sets $A$ and $B$\n",
    "- if $A \\cong B$ and $B \\cong C$ then $A \\cong C$ for every triplet $A$, $B$ and $C$"
   ]
  },
  {
   "cell_type": "markdown",
   "metadata": {},
   "source": [
    "#### Prove that:\n",
    "<br>\n",
    "there exists a bijection between set of natural and even numbers"
   ]
  },
  {
   "cell_type": "markdown",
   "metadata": {},
   "source": [
    "\n",
    "f1(n) = 2n , n is N\n",
    "\n"
   ]
  },
  {
   "cell_type": "markdown",
   "metadata": {},
   "source": [
    "#### Prove that:\n",
    "<br>\n",
    "if we have a bijection between two finite sets than they have an equal number of elements"
   ]
  },
  {
   "cell_type": "markdown",
   "metadata": {},
   "source": [
    "f1(n) = 2n , n is N , and n is (0 : N1] <br /> \n",
    "for any N1 ,  number of n and 2n is the same"
   ]
  },
  {
   "cell_type": "markdown",
   "metadata": {},
   "source": [
    "#### Prove that:\n",
    "<br>\n",
    "$A \\times B \\cong B \\times A$"
   ]
  },
  {
   "cell_type": "markdown",
   "metadata": {},
   "source": [
    "$\\cap_{i\\in I}A_i$ and $\\cup_{i\\in I}A_i$"
   ]
  },
  {
   "cell_type": "code",
   "execution_count": 29,
   "metadata": {},
   "outputs": [
    {
     "name": "stdout",
     "output_type": "stream",
     "text": [
      "(1, 1)\n",
      "(1, 2)\n",
      "(1, 18)\n",
      "(1, 28)\n",
      "(2, 1)\n",
      "(2, 2)\n",
      "(2, 18)\n",
      "(2, 28)\n",
      "(3, 1)\n",
      "(3, 2)\n",
      "(3, 18)\n",
      "(3, 28)\n",
      "(4, 1)\n",
      "(4, 2)\n",
      "(4, 18)\n",
      "(4, 28)\n",
      "VS\n",
      "(1, 1)\n",
      "(1, 2)\n",
      "(1, 3)\n",
      "(1, 4)\n",
      "(2, 1)\n",
      "(2, 2)\n",
      "(2, 3)\n",
      "(2, 4)\n",
      "(18, 1)\n",
      "(18, 2)\n",
      "(18, 3)\n",
      "(18, 4)\n",
      "(28, 1)\n",
      "(28, 2)\n",
      "(28, 3)\n",
      "(28, 4)\n"
     ]
    }
   ],
   "source": [
    "# Inplement in python\n",
    "A = {1, 2, 3, 4, 4}\n",
    "C = {1, 2, 18, 28}\n",
    "\n",
    "import itertools\n",
    "    \n",
    "for i in itertools.product(A,C):\n",
    "    print (i)\n",
    "print (\"VS\")    \n",
    "for i in itertools.product(C,A):\n",
    "    print (i)    \n"
   ]
  },
  {
   "cell_type": "markdown",
   "metadata": {},
   "source": [
    "We can also define cartesian product of any \"number\" of sets $\\prod_{i \\in I}{A_i}$"
   ]
  },
  {
   "cell_type": "code",
   "execution_count": 23,
   "metadata": {},
   "outputs": [
    {
     "name": "stdout",
     "output_type": "stream",
     "text": [
      "(1, 1)\n",
      "(1, 2)\n",
      "(1, 3)\n",
      "(1, 4)\n",
      "(2, 1)\n",
      "(2, 2)\n",
      "(2, 3)\n",
      "(2, 4)\n",
      "(3, 1)\n",
      "(3, 2)\n",
      "(3, 3)\n",
      "(3, 4)\n",
      "(4, 1)\n",
      "(4, 2)\n",
      "(4, 3)\n",
      "(4, 4)\n"
     ]
    }
   ],
   "source": [
    "# Inplement in python\n",
    "\n",
    "A = {1, 2, 3, 4, 4}\n",
    "\n",
    "\n",
    "import itertools\n",
    "for i in itertools.product(A,A):\n",
    "     print (i)"
   ]
  },
  {
   "cell_type": "markdown",
   "metadata": {},
   "source": [
    "#### Prove that:\n",
    "<br>\n",
    "$$A \\cap (B \\cup C)=(A \\cap B) \\cup (A\\cap C)$$\n",
    "$$A \\cup (B \\cap C)=(A \\cup B) \\cap (A\\cup C)$$"
   ]
  },
  {
   "cell_type": "markdown",
   "metadata": {},
   "source": [
    "1) 𝐴∩(𝐵∪𝐶)=(𝐴∩𝐵)∪(𝐴∩𝐶)  <br /> \n",
    "if 𝐴'⊆𝐵'  and 𝐵'⊆𝐴' → 𝐴'=𝐵'       \n",
    "\n",
    "if x∈A∩(B∪C) x is in A and x is in B∪C <br />\n",
    "x ∈ A and  ( x ∈ B or x x∈)  <br />\n",
    "(x ∈ A and  x ∈ B)   or  (x ∈ A and  x ∈ C) <br />\n",
    "A∩(B∪C)⊂(A∩B)∪(A∩C)   , so  𝐴'⊆𝐵'  <br /> \n",
    "\n",
    "if x∈(A∩B)∪(A∩C) x is in  A∩B or x is in A∩C  <br />\n",
    "\n",
    "(x ∈ A and  x ∈ B ) or  (x ∈ A and  x ∈ C)  <br />\n",
    "\n",
    "x ∈ A and (x ∈ C or  x ∈ B) so ,  x ∈ A∩(B∪C) , so  𝐵'⊆𝐴' , and so   𝐴'=𝐵' <br />\n",
    "\n",
    "so 𝐴∩(𝐵∪𝐶)=(𝐴∩𝐵)∪(𝐴∩𝐶)    <br /> <br /> <br /> <br />\n",
    "\n",
    "\n",
    "\n",
    "2) 𝐴∪(𝐵∩𝐶)=(𝐴∪𝐵)∩(𝐴∪𝐶) <br />\n",
    "if 𝐴'⊆𝐵'  and 𝐵'⊆𝐴' → 𝐴'=𝐵' <br />\n",
    "\n",
    "if x∈AU(B∩C) (x is in A) or  (x is in B  and x is C) <br />\n",
    " (x is in A) or  (x is in B)     and    (x is in A  or x is C)  <br />\n",
    "\n",
    "𝐴∪(𝐵∩𝐶) ⊂  (𝐴∪𝐵)∩(𝐴∪𝐶)  , so  𝐴'⊆𝐵'   <br /> \n",
    "\n",
    "if x ∈ (𝐴∪𝐵)∩(𝐴∪𝐶)  x in (𝐴∪𝐵) and x in (𝐴∪𝐶) <br />\n",
    "\n",
    "(x ∈ A or  x ∈ B ) and  (x ∈ A or  x ∈ C) <br />\n",
    "\n",
    "x ∈ A or  (x ∈ B and  x ∈ C) ,so  x ∈ 𝐴∪(𝐵∩𝐶)  ,so  𝐵'⊆𝐴' , and so   𝐴'=𝐵'  <br />\n",
    "\n",
    "\n",
    "so 𝐴∪(𝐵∩𝐶)=(𝐴∪𝐵)∩(𝐴∪𝐶) \n",
    "\n",
    "\n",
    "\n",
    "\n"
   ]
  },
  {
   "cell_type": "markdown",
   "metadata": {},
   "source": [
    "# Linear Algebra"
   ]
  },
  {
   "cell_type": "markdown",
   "metadata": {},
   "source": [
    "#### Prove that:\n",
    "<br>\n",
    "$(AB)^{T} = B^{T}A^{T}$ for each pair of matrices $A, B \\in \\mathbb{R}^{n \\times m}$"
   ]
  },
  {
   "cell_type": "markdown",
   "metadata": {},
   "source": [
    "## Functions on tensors"
   ]
  },
  {
   "cell_type": "markdown",
   "metadata": {},
   "source": [
    "#### Write combination for $XOR$ calculation"
   ]
  },
  {
   "cell_type": "code",
   "execution_count": 9,
   "metadata": {},
   "outputs": [
    {
     "name": "stdout",
     "output_type": "stream",
     "text": [
      "[0, 0] 0.0\n",
      "[0, 1] 1.0\n",
      "[1, 0] 1.0\n",
      "[1, 1] 0.0\n"
     ]
    }
   ],
   "source": [
    "import numpy as np\n",
    "import math\n",
    "\n",
    "sig = np.vectorize(lambda x: 1 / (1 + math.exp(-x)))\n",
    "\n",
    "W = np.array([20, 20]) # Weights\n",
    "b = np.array([-30]) # bias\n",
    "X = np.array([1, 0])\n",
    "d = sig(W @ X + b)\n",
    "np.around(d, decimals=1)\n",
    "\n",
    "BA = [[0, 0], [0, 1], [1, 0], [1, 1]]\n",
    "ff = lambda _X, _W, _b: sig(np.dot(_W.T, _X) + _b)\n",
    "\n",
    "for ba in BA:\n",
    "  print(ba, np.round(ff(ba , W , -10) - ff(ba, W, -30) , decimals = 1))"
   ]
  }
 ],
 "metadata": {
  "kernelspec": {
   "display_name": "Python 3",
   "language": "python",
   "name": "python3"
  },
  "language_info": {
   "codemirror_mode": {
    "name": "ipython",
    "version": 3
   },
   "file_extension": ".py",
   "mimetype": "text/x-python",
   "name": "python",
   "nbconvert_exporter": "python",
   "pygments_lexer": "ipython3",
   "version": "3.7.3"
  }
 },
 "nbformat": 4,
 "nbformat_minor": 4
}
