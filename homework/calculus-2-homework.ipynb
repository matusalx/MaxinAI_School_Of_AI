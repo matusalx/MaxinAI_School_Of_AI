{
 "cells": [
  {
   "cell_type": "code",
   "execution_count": null,
   "metadata": {},
   "outputs": [],
   "source": [
    "%load_ext autoreload\n",
    "%autoreload 2\n",
    "\n",
    "%matplotlib inline"
   ]
  },
  {
   "cell_type": "markdown",
   "metadata": {},
   "source": [
    "## Basic setup"
   ]
  },
  {
   "cell_type": "markdown",
   "metadata": {},
   "source": [
    "Create anaconda environment\n",
    "<br>\n",
    "```bash\n",
    "conda create -n ml python=3.7.4 jupyter\n",
    "```\n",
    "Install fastai library\n",
    "<br>\n",
    "```bash\n",
    "conda install -c pytorch -c fastai fastai\n",
    "```"
   ]
  },
  {
   "cell_type": "markdown",
   "metadata": {},
   "source": [
    "# Derivatives"
   ]
  },
  {
   "cell_type": "markdown",
   "metadata": {},
   "source": [
    "#### Example:\n",
    "$$f(x,y) = \\begin{cases}x & \\text{if }y \\ne x^2 \\\\ 0 & \\text{if }y = x^2\\end{cases}$$"
   ]
  },
  {
   "cell_type": "markdown",
   "metadata": {},
   "source": [
    "df(x,y)=df/dx + df/dy  <br /> \n",
    "\n",
    "\n",
    "df(x,y) ,if 𝑦≠𝑥^2 , is 1  <br /> \n",
    "and does not equal to <br />  \n",
    "df(x,y) ,if 𝑦=𝑥^2 , is 0 <br /> \n",
    "so  f(x,y) is not differentiable <br /> \n",
    "\n",
    "\n"
   ]
  },
  {
   "cell_type": "markdown",
   "metadata": {},
   "source": [
    "#### Example:\n",
    "$$f(x,y) = \\begin{cases}y^3/(x^2+y^2) & \\text{if }(x,y) \\ne (0,0) \\\\ 0 & \\text{if }(x,y) = (0,0)\\end{cases}$$\n",
    "\n",
    "\n",
    "\n",
    "\n",
    "\n",
    "\n"
   ]
  },
  {
   "cell_type": "markdown",
   "metadata": {},
   "source": [
    "\n",
    "df/dx = ((x^2+y^2)*0 - y^3 2x ) / (x^2+y^2)^2  = - y^3 2x / (x^2+y^2)^2  ,   if (𝑥,𝑦)≠(0,0) ,  <br />\n",
    "df /dy = ((x^2+y^2)*3y^2 - y^3 2y ) / (x^2+y^2)^2 if (𝑥,𝑦)≠(0,0)  ,  if (𝑥,𝑦)≠(0,0)   <br /> \n",
    "\n",
    "d1 = df(x,y) = df/dx + df/dy= [ y^2 (3x^2-y^2-2xy)] /(x2+y2)^2  if (𝑥,𝑦)≠(0,0)  <br />\n",
    "and d2 = df(x,y) = 0 if  if (𝑥,𝑦)=(0,0) \n",
    "\n",
    "as d1 != d2  f(x,y) is not differentiable\n",
    "\n",
    "\n"
   ]
  }
 ],
 "metadata": {
  "kernelspec": {
   "display_name": "Python 3",
   "language": "python",
   "name": "python3"
  },
  "language_info": {
   "codemirror_mode": {
    "name": "ipython",
    "version": 3
   },
   "file_extension": ".py",
   "mimetype": "text/x-python",
   "name": "python",
   "nbconvert_exporter": "python",
   "pygments_lexer": "ipython3",
   "version": "3.7.3"
  }
 },
 "nbformat": 4,
 "nbformat_minor": 4
}
